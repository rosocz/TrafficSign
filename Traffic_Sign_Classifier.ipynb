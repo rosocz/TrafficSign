{
 "cells": [
  {
   "cell_type": "markdown",
   "metadata": {},
   "source": [
    "# Self-Driving Car Engineer Nanodegree\n",
    "\n",
    "## Deep Learning\n",
    "\n",
    "## Project: Build a Traffic Sign Recognition Classifier\n",
    "\n",
    "In this notebook, a template is provided for you to implement your functionality in stages, which is required to successfully complete this project. If additional code is required that cannot be included in the notebook, be sure that the Python code is successfully imported and included in your submission if necessary. \n",
    "\n",
    "> **Note**: Once you have completed all of the code implementations, you need to finalize your work by exporting the iPython Notebook as an HTML document. Before exporting the notebook to html, all of the code cells need to have been run so that reviewers can see the final implementation and output. You can then export the notebook by using the menu above and navigating to  \\n\",\n",
    "    \"**File -> Download as -> HTML (.html)**. Include the finished document along with this notebook as your submission. \n",
    "\n",
    "In addition to implementing code, there is a writeup to complete. The writeup should be completed in a separate file, which can be either a markdown file or a pdf document. There is a [write up template](https://github.com/udacity/CarND-Traffic-Sign-Classifier-Project/blob/master/writeup_template.md) that can be used to guide the writing process. Completing the code template and writeup template will cover all of the [rubric points](https://review.udacity.com/#!/rubrics/481/view) for this project.\n",
    "\n",
    "The [rubric](https://review.udacity.com/#!/rubrics/481/view) contains \"Stand Out Suggestions\" for enhancing the project beyond the minimum requirements. The stand out suggestions are optional. If you decide to pursue the \"stand out suggestions\", you can include the code in this Ipython notebook and also discuss the results in the writeup file.\n",
    "\n",
    "\n",
    ">**Note:** Code and Markdown cells can be executed using the **Shift + Enter** keyboard shortcut. In addition, Markdown cells can be edited by typically double-clicking the cell to enter edit mode."
   ]
  },
  {
   "cell_type": "markdown",
   "metadata": {},
   "source": [
    "---\n",
    "## Step 0: Load The Data"
   ]
  },
  {
   "cell_type": "code",
   "execution_count": 1,
   "metadata": {
    "collapsed": false
   },
   "outputs": [
    {
     "name": "stderr",
     "output_type": "stream",
     "text": [
      "/home/carnd/anaconda3/envs/carnd-term1/lib/python3.5/site-packages/matplotlib/font_manager.py:280: UserWarning: Matplotlib is building the font cache using fc-list. This may take a moment.\n",
      "  'Matplotlib is building the font cache using fc-list. '\n"
     ]
    }
   ],
   "source": [
    "# Load pickled data\n",
    "import pickle\n",
    "import matplotlib.pyplot as plt\n",
    "import numpy as np\n",
    "import tensorflow as tf\n",
    "from skimage import exposure\n",
    "from sklearn.preprocessing import minmax_scale\n",
    "from scipy import ndimage, misc\n",
    "import random, math\n",
    "import pandas as p\n",
    "from sklearn.utils import shuffle\n",
    "%matplotlib inline\n",
    "\n",
    "# TODO: Fill this in based on where you saved the training and testing data\n",
    "\n",
    "training_file = 'train.p'\n",
    "validation_file= 'valid.p'\n",
    "testing_file = 'test.p'\n",
    "\n",
    "with open(training_file, mode='rb') as f:\n",
    "    train = pickle.load(f)\n",
    "with open(validation_file, mode='rb') as f:\n",
    "    valid = pickle.load(f)\n",
    "with open(testing_file, mode='rb') as f:\n",
    "    test = pickle.load(f)\n",
    "    \n",
    "sign_labels = p.read_csv(\"signnames.csv\")\n",
    "    \n",
    "X_train, y_train = train['features'], train['labels']\n",
    "X_valid, y_valid = valid['features'], valid['labels']\n",
    "X_test, y_test = test['features'], test['labels']"
   ]
  },
  {
   "cell_type": "code",
   "execution_count": null,
   "metadata": {
    "collapsed": true
   },
   "outputs": [],
   "source": [
    "---\n",
    "\n",
    "## Step 1: Dataset Summary & Exploration\n",
    "\n",
    "The pickled data is a dictionary with 4 key/value pairs:\n",
    "\n",
    "- `'features'` is a 4D array containing raw pixel data of the traffic sign images, (num examples, width, height, channels).\n",
    "- `'labels'` is a 1D array containing the label/class id of the traffic sign. The file `signnames.csv` contains id -> name mappings for each id.\n",
    "- `'sizes'` is a list containing tuples, (width, height) representing the original width and height the image.\n",
    "- `'coords'` is a list containing tuples, (x1, y1, x2, y2) representing coordinates of a bounding box around the sign in the image. **THESE COORDINATES ASSUME THE ORIGINAL IMAGE. THE PICKLED DATA CONTAINS RESIZED VERSIONS (32 by 32) OF THESE IMAGES**\n",
    "\n",
    "Complete the basic data summary below. Use python, numpy and/or pandas methods to calculate the data summary rather than hard coding the results. For example, the [pandas shape method](http://pandas.pydata.org/pandas-docs/stable/generated/pandas.DataFrame.shape.html) might be useful for calculating some of the summary results. "
   ]
  },
  {
   "cell_type": "markdown",
   "metadata": {},
   "source": [
    "### Provide a Basic Summary of the Data Set Using Python, Numpy and/or Pandas"
   ]
  },
  {
   "cell_type": "code",
   "execution_count": 2,
   "metadata": {
    "collapsed": false
   },
   "outputs": [
    {
     "name": "stdout",
     "output_type": "stream",
     "text": [
      "Number of training examples = 34799\n",
      "Number of testing examples = 12630\n",
      "Image data shape = (32, 32, 3)\n",
      "Number of classes = 43\n"
     ]
    }
   ],
   "source": [
    "### Replace each question mark with the appropriate value. \n",
    "### Use python, pandas or numpy methods rather than hard coding the results\n",
    "\n",
    "# TODO: Number of training examples\n",
    "n_train = np.size(y_train)\n",
    "\n",
    "# TODO: Number of validation examples\n",
    "n_validation = np.size(y_valid)\n",
    "\n",
    "# TODO: Number of testing examples.\n",
    "n_test = np.size(y_test)\n",
    "\n",
    "# TODO: What's the shape of an traffic sign image?\n",
    "image_shape = np.shape(X_train[0])\n",
    "\n",
    "# TODO: How many unique classes/labels there are in the dataset.\n",
    "n_classes = np.size(np.unique(y_test))\n",
    "\n",
    "\n",
    "\n",
    "print(\"Number of training examples =\", n_train)\n",
    "print(\"Number of testing examples =\", n_test)\n",
    "print(\"Image data shape =\", image_shape)\n",
    "print(\"Number of classes =\", n_classes)"
   ]
  },
  {
   "cell_type": "markdown",
   "metadata": {},
   "source": [
    "### Include an exploratory visualization of the dataset"
   ]
  },
  {
   "cell_type": "markdown",
   "metadata": {},
   "source": [
    "Visualize the German Traffic Signs Dataset using the pickled file(s). This is open ended, suggestions include: plotting traffic sign images, plotting the count of each sign, etc. \n",
    "\n",
    "The [Matplotlib](http://matplotlib.org/) [examples](http://matplotlib.org/examples/index.html) and [gallery](http://matplotlib.org/gallery.html) pages are a great resource for doing visualizations in Python.\n",
    "\n",
    "**NOTE:** It's recommended you start with something simple first. If you wish to do more, come back to it after you've completed the rest of the sections. It can be interesting to look at the distribution of classes in the training, validation and test set. Is the distribution the same? Are there more examples of some classes than others?"
   ]
  },
  {
   "cell_type": "code",
   "execution_count": 75,
   "metadata": {
    "collapsed": false
   },
   "outputs": [
    {
     "name": "stderr",
     "output_type": "stream",
     "text": [
      "/home/roso/anaconda3/lib/python3.6/site-packages/matplotlib/figure.py:418: UserWarning: matplotlib is currently using a non-GUI backend, so cannot show the figure\n",
      "  \"matplotlib is currently using a non-GUI backend, \"\n"
     ]
    },
    {
     "name": "stdout",
     "output_type": "stream",
     "text": [
      "Share by class\n",
      "[0 'Speed limit (20km/h)']   0.52 % (count  180 )\n",
      "[1 'Speed limit (30km/h)']   5.69 % (count  1980 )\n",
      "[2 'Speed limit (50km/h)']   5.78 % (count  2010 )\n",
      "[3 'Speed limit (60km/h)']   3.62 % (count  1260 )\n",
      "[4 'Speed limit (70km/h)']   5.09 % (count  1770 )\n",
      "[5 'Speed limit (80km/h)']   4.74 % (count  1650 )\n",
      "[6 'End of speed limit (80km/h)']   1.03 % (count  360 )\n",
      "[7 'Speed limit (100km/h)']   3.71 % (count  1290 )\n",
      "[8 'Speed limit (120km/h)']   3.62 % (count  1260 )\n",
      "[9 'No passing']   3.79 % (count  1320 )\n",
      "[10 'No passing for vehicles over 3.5 metric tons']   5.17 % (count  1800 )\n",
      "[11 'Right-of-way at the next intersection']   3.36 % (count  1170 )\n",
      "[12 'Priority road']   5.43 % (count  1890 )\n",
      "[13 'Yield']   5.52 % (count  1920 )\n",
      "[14 'Stop']   1.98 % (count  690 )\n",
      "[15 'No vehicles']   1.55 % (count  540 )\n",
      "[16 'Vehicles over 3.5 metric tons prohibited']   1.03 % (count  360 )\n",
      "[17 'No entry']   2.84 % (count  990 )\n",
      "[18 'General caution']   3.1 % (count  1080 )\n",
      "[19 'Dangerous curve to the left']   0.52 % (count  180 )\n",
      "[20 'Dangerous curve to the right']   0.86 % (count  300 )\n",
      "[21 'Double curve']   0.78 % (count  270 )\n",
      "[22 'Bumpy road']   0.95 % (count  330 )\n",
      "[23 'Slippery road']   1.29 % (count  450 )\n",
      "[24 'Road narrows on the right']   0.69 % (count  240 )\n",
      "[25 'Road work']   3.88 % (count  1350 )\n",
      "[26 'Traffic signals']   1.55 % (count  540 )\n",
      "[27 'Pedestrians']   0.6 % (count  210 )\n",
      "[28 'Children crossing']   1.38 % (count  480 )\n",
      "[29 'Bicycles crossing']   0.69 % (count  240 )\n",
      "[30 'Beware of ice/snow']   1.12 % (count  390 )\n",
      "[31 'Wild animals crossing']   1.98 % (count  690 )\n",
      "[32 'End of all speed and passing limits']   0.6 % (count  210 )\n",
      "[33 'Turn right ahead']   1.72 % (count  599 )\n",
      "[34 'Turn left ahead']   1.03 % (count  360 )\n",
      "[35 'Ahead only']   3.1 % (count  1080 )\n",
      "[36 'Go straight or right']   0.95 % (count  330 )\n",
      "[37 'Go straight or left']   0.52 % (count  180 )\n",
      "[38 'Keep right']   5.34 % (count  1860 )\n",
      "[39 'Keep left']   0.78 % (count  270 )\n",
      "[40 'Roundabout mandatory']   0.86 % (count  300 )\n",
      "[41 'End of no passing']   0.6 % (count  210 )\n",
      "[42 'End of no passing by vehicles over 3.5 metric tons']   0.6 % (count  210 )\n"
     ]
    },
    {
     "data": {
      "image/png": "[encoded data removed]",
      "text/plain": [
       "<matplotlib.figure.Figure at 0x7fd27fd6beb8>"
      ]
     },
     "metadata": {},
     "output_type": "display_data"
    },
    {
     "data": {
      "image/png": "[encoded data removed]",
      "text/plain": [
       "<matplotlib.figure.Figure at 0x7fd277d51d68>"
      ]
     },
     "metadata": {},
     "output_type": "display_data"
    }
   ],
   "source": [
    "### Data exploration visualization code goes here.\n",
    "### Feel free to use as many code cells as needed.\n",
    "# Visualizations will be shown in the notebook.\n",
    "fig = plt.figure(figsize=(15,4))\n",
    "for i in range(15):\n",
    "    a=fig.add_subplot(1,15,i+1)\n",
    "    a.imshow(X_train[random.randint(0,len(X_train))])\n",
    "    \n",
    "for i in range(15):\n",
    "    a=fig.add_subplot(2,15,i+1)\n",
    "    a.imshow(X_train[random.randint(0,len(X_train))])\n",
    "\n",
    "fig.show()\n",
    "\n",
    "fig = plt.figure()\n",
    "plt.hist(y_train, bins=len(np.unique(y_train)), label=\"Samples according classes\")\n",
    "plt.legend()\n",
    "\n",
    "share_classes_percentage = np.round((np.bincount(y_train)*100)/len(y_train),2)\n",
    "print('Share by class')\n",
    "for share, y, name, pieces in zip(share_classes_percentage, np.unique(y_train), sign_labels.values, np.bincount(y_train)):\n",
    "    print(name,' ', share,'% (count ', pieces ,')')"
   ]
  },
  {
   "cell_type": "markdown",
   "metadata": {},
   "source": [
    "----\n",
    "\n",
    "## Step 2: Design and Test a Model Architecture\n",
    "\n",
    "Design and implement a deep learning model that learns to recognize traffic signs. Train and test your model on the [German Traffic Sign Dataset](http://benchmark.ini.rub.de/?section=gtsrb&subsection=dataset).\n",
    "\n",
    "The LeNet-5 implementation shown in the [classroom](https://classroom.udacity.com/nanodegrees/nd013/parts/fbf77062-5703-404e-b60c-95b78b2f3f9e/modules/6df7ae49-c61c-4bb2-a23e-6527e69209ec/lessons/601ae704-1035-4287-8b11-e2c2716217ad/concepts/d4aca031-508f-4e0b-b493-e7b706120f81) at the end of the CNN lesson is a solid starting point. You'll have to change the number of classes and possibly the preprocessing, but aside from that it's plug and play! \n",
    "\n",
    "With the LeNet-5 solution from the lecture, you should expect a validation set accuracy of about 0.89. To meet specifications, the validation set accuracy will need to be at least 0.93. It is possible to get an even higher accuracy, but 0.93 is the minimum for a successful project submission. \n",
    "\n",
    "There are various aspects to consider when thinking about this problem:\n",
    "\n",
    "- Neural network architecture (is the network over or underfitting?)\n",
    "- Play around preprocessing techniques (normalization, rgb to grayscale, etc)\n",
    "- Number of examples per label (some have more than others).\n",
    "- Generate fake data.\n",
    "\n",
    "Here is an example of a [published baseline model on this problem](http://yann.lecun.com/exdb/publis/pdf/sermanet-ijcnn-11.pdf). It's not required to be familiar with the approach used in the paper but, it's good practice to try to read papers like these."
   ]
  },
  {
   "cell_type": "markdown",
   "metadata": {},
   "source": [
    "### Pre-process the Data Set (normalization, grayscale, etc.)"
   ]
  },
  {
   "cell_type": "markdown",
   "metadata": {},
   "source": [
    "Minimally, the image data should be normalized so that the data has mean zero and equal variance. For image data, `(pixel - 128)/ 128` is a quick way to approximately normalize the data and can be used in this project. \n",
    "\n",
    "Other pre-processing steps are optional. You can try different techniques to see if it improves performance. \n",
    "\n",
    "Use the code cell (or multiple code cells, if necessary) to implement the first step of your project."
   ]
  },
  {
   "cell_type": "code",
   "execution_count": 9,
   "metadata": {
    "collapsed": true
   },
   "outputs": [],
   "source": [
    "### Preprocess the data here. It is required to normalize the data. Other preprocessing steps could include \n",
    "### converting to grayscale, etc.\n",
    "### Feel free to use as many code cells as needed.:"
   ]
  },
  {
   "cell_type": "code",
   "execution_count": 3,
   "metadata": {
    "collapsed": true
   },
   "outputs": [],
   "source": [
    "#converted to grayscale as suggested, it also decreases count of depth to 1\n",
    "def get_gray(X):\n",
    "    X_g = []\n",
    "    \n",
    "    for i in range(len(X)):\n",
    "        X_g.append(np.dot(X[i][...,:3], [0.299, 0.587, 0.114]))\n",
    "\n",
    "    X_g = np.array(X_g)\n",
    "    return X_g.reshape(len(X), 32, 32,1)"
   ]
  },
  {
   "cell_type": "code",
   "execution_count": 4,
   "metadata": {
    "collapsed": true
   },
   "outputs": [],
   "source": [
    "# normalize scale takes care of limited range of all inputs\n",
    "def normalize_scale(X):\n",
    "    X_sc = []\n",
    "    \n",
    "    for i in range(len(X)):\n",
    "        X_sc.append(minmax_scale(X[i].reshape(32,32), feature_range=(-1, 1)))\n",
    "    X_sc = np.array(X_sc)\n",
    "    \n",
    "    return X_sc.reshape(len(X), 32, 32, 1)"
   ]
  },
  {
   "cell_type": "code",
   "execution_count": 5,
   "metadata": {
    "collapsed": true
   },
   "outputs": [],
   "source": [
    "#it centers data\n",
    "def standardize(X):\n",
    "    X -= np.mean(X)\n",
    "    X /= np.std(X)\n",
    "    return (X)"
   ]
  },
  {
   "cell_type": "code",
   "execution_count": 6,
   "metadata": {
    "collapsed": true
   },
   "outputs": [],
   "source": [
    "#equalize histogram, it changes contrast of image, edges are more visible\n",
    "def histogram_equalize(X):\n",
    "    img_cdf, bin_centers = exposure.cumulative_distribution(X)\n",
    "    return np.interp(X, bin_centers, img_cdf)"
   ]
  },
  {
   "cell_type": "code",
   "execution_count": 7,
   "metadata": {
    "collapsed": true
   },
   "outputs": [],
   "source": [
    "# try to reduce noise because some images are realy bad and it can just improve them\n",
    "def denoise(X):\n",
    "    return ndimage.median_filter(X, 1)"
   ]
  },
  {
   "cell_type": "code",
   "execution_count": 8,
   "metadata": {
    "collapsed": true
   },
   "outputs": [],
   "source": [
    "def preprocess(X):\n",
    "    return normalize_scale(\n",
    "               standardize(               \n",
    "                   denoise(\n",
    "                       histogram_equalize(\n",
    "                           get_gray(X)\n",
    "                        )\n",
    "                    )\n",
    "                )\n",
    "            )            "
   ]
  },
  {
   "cell_type": "code",
   "execution_count": 9,
   "metadata": {
    "collapsed": true
   },
   "outputs": [],
   "source": [
    "X_train = preprocess(X_train)\n",
    "X_test = preprocess(X_test)\n",
    "X_valid = preprocess(X_valid)"
   ]
  },
  {
   "cell_type": "code",
   "execution_count": 10,
   "metadata": {
    "collapsed": true
   },
   "outputs": [],
   "source": [
    "#finds all images by class\n",
    "def get_image_by_class(X, y, class_id=1):\n",
    "    images_by_class = []\n",
    "    for image, y_id in zip(X,y):\n",
    "        if (y_id == class_id):\n",
    "            images_by_class.append(image)\n",
    "    \n",
    "    return np.array(images_by_class)"
   ]
  },
  {
   "cell_type": "code",
   "execution_count": 11,
   "metadata": {
    "collapsed": true
   },
   "outputs": [],
   "source": [
    "images_class = []\n",
    "for i in range(max(y_train)):\n",
    "    images_class.append(get_image_by_class(X_train, y_train, i))"
   ]
  },
  {
   "cell_type": "code",
   "execution_count": 12,
   "metadata": {
    "collapsed": true
   },
   "outputs": [],
   "source": [
    "# some images are not taken absolutely vertical, rotation can help but we have to prevent too big rotation\n",
    "# it can became another sign\n",
    "def rotate(img):\n",
    "    return ndimage.rotate(img, random.randint(-15, 15), reshape=False)"
   ]
  },
  {
   "cell_type": "code",
   "execution_count": 13,
   "metadata": {
    "collapsed": true
   },
   "outputs": [],
   "source": [
    "# improving edges\n",
    "def sharpen(X):\n",
    "    filter_blurred_f = ndimage.gaussian_filter(X, 1)\n",
    "    alpha = 15\n",
    "    return X + alpha * (X - filter_blurred_f)"
   ]
  },
  {
   "cell_type": "code",
   "execution_count": 14,
   "metadata": {
    "collapsed": true
   },
   "outputs": [],
   "source": [
    "# real sign size varies\n",
    "def shrink(img):\n",
    "    to_remove = random.randint(2,8)\n",
    "    original_size = len(img)\n",
    "    new_size = len(img) - to_remove\n",
    "    img_s = misc.imresize(img.reshape(original_size,original_size), (new_size, new_size))\n",
    "    to_pad = to_remove/2\n",
    "    to_pad_up = math.floor(to_pad)\n",
    "    to_pad_down = math.ceil(to_pad)\n",
    "    return np.pad(img_s, ((to_pad_up,to_pad_down),(to_pad_up,to_pad_down)), 'constant').reshape(32,32,1)"
   ]
  },
  {
   "cell_type": "code",
   "execution_count": 15,
   "metadata": {
    "collapsed": true
   },
   "outputs": [],
   "source": [
    "def add_noise(img):\n",
    "    row,col,ch = img.shape\n",
    "    gauss = np.random.randn(row,col,ch)\n",
    "    gauss = gauss.reshape(row,col,ch)        \n",
    "    return img + img * (gauss/random.randint(2,4))"
   ]
  },
  {
   "cell_type": "code",
   "execution_count": 16,
   "metadata": {
    "collapsed": true
   },
   "outputs": [],
   "source": [
    "# creates required amount of images with random transformations applied\n",
    "def augument(X, y, augument_size=1):\n",
    "    X_aug = []\n",
    "    y_aug = []\n",
    "    cycle_count = math.ceil(augument_size / len(X))\n",
    "    for i in range(cycle_count): #loop to get required amount of new images\n",
    "        for img in X: #transform all existing images\n",
    "            transform_count = random.randint(0,1)\n",
    "            for i in range(transform_count): #try to implement up to 2 transformation combinations\n",
    "                action_id = random.randint(1,4)\n",
    "                if (action_id == 1):\n",
    "                    img = rotate(img)\n",
    "                elif (action_id == 2):\n",
    "                    img = shrink(img)\n",
    "                elif (action_id == 3):\n",
    "                    img = add_noise(img)\n",
    "                else:\n",
    "                    img = sharpen(img)\n",
    "            X_aug.append(img)\n",
    "            y_aug.append(y)\n",
    "    return np.array(X_aug), np.array(y_aug)"
   ]
  },
  {
   "cell_type": "code",
   "execution_count": 17,
   "metadata": {
    "collapsed": true
   },
   "outputs": [],
   "source": [
    "class_sizes = []\n",
    "for index,classes in enumerate(images_class):\n",
    "    class_sizes.append(len(classes))\n",
    "minimum_image_count = max(class_sizes)*1.5"
   ]
  },
  {
   "cell_type": "code",
   "execution_count": 18,
   "metadata": {
    "collapsed": true
   },
   "outputs": [],
   "source": [
    "#all symetric images are flipped\n",
    "for class_id,images in enumerate(images_class):\n",
    "    flippable_classes = [11,12,13,15,17,18,22,35]\n",
    "    if class_id in flippable_classes:\n",
    "        np.append(X_train,np.fliplr(images))\n",
    "        np.append(y_train, class_id)"
   ]
  },
  {
   "cell_type": "code",
   "execution_count": 19,
   "metadata": {
    "collapsed": true
   },
   "outputs": [],
   "source": [
    "for class_id,images in enumerate(images_class):\n",
    "    augument_size = minimum_image_count - len(images)\n",
    "    if (augument_size > 0):\n",
    "        X_augumented, y_augumented = augument(images, class_id, augument_size)\n",
    "        X_train = np.concatenate([X_train, X_augumented])\n",
    "        y_train = np.concatenate([y_train, y_augumented])"
   ]
  },
  {
   "cell_type": "code",
   "execution_count": 47,
   "metadata": {
    "collapsed": false
   },
   "outputs": [
    {
     "name": "stderr",
     "output_type": "stream",
     "text": [
      "/home/carnd/anaconda3/envs/carnd-term1/lib/python3.5/site-packages/matplotlib/figure.py:402: UserWarning: matplotlib is currently using a non-GUI backend, so cannot show the figure\n",
      "  \"matplotlib is currently using a non-GUI backend, \"\n"
     ]
    },
    {
     "data": {
      "image/png": "[encoded data removed]",
      "text/plain": [
       "<matplotlib.figure.Figure at 0x7f39d509e8d0>"
      ]
     },
     "metadata": {},
     "output_type": "display_data"
    }
   ],
   "source": [
    "fig = plt.figure(figsize=(15,4))\n",
    "for i in range(15):\n",
    "    a=fig.add_subplot(1,15,i+1)\n",
    "    a.imshow(X_train[random.randint(0,len(X_train))].reshape(32,32), cmap='gray')\n",
    "    \n",
    "for i in range(15):\n",
    "    a=fig.add_subplot(2,15,i+1)\n",
    "    a.imshow(X_train[random.randint(0,len(X_train))].reshape(32,32), cmap='gray')\n",
    "\n",
    "fig.show()"
   ]
  },
  {
   "cell_type": "markdown",
   "metadata": {},
   "source": [
    "### Model Architecture"
   ]
  },
  {
   "cell_type": "code",
   "execution_count": 20,
   "metadata": {
    "collapsed": true
   },
   "outputs": [],
   "source": [
    "# I have changed original model of LeNet solution, add more depth and changed padding from VALID to SAME\n",
    "from tensorflow.contrib.layers import flatten\n",
    "\n",
    "def do_nn(x):\n",
    "    mu = 0\n",
    "    sigma = 0.1\n",
    "    dropout_prob = 0.3\n",
    "    \n",
    "    #Layer 1: Convolutional. Input = 32x32x1. Output = 32x32x32.\n",
    "    conv1_W = tf.Variable(tf.truncated_normal(shape=(5, 5, 1, 32), mean = mu, stddev = sigma))\n",
    "    conv1_b = tf.Variable(tf.zeros(32))\n",
    "    conv1   = tf.nn.conv2d(x, conv1_W, strides=[1, 1, 1, 1], padding='SAME') + conv1_b\n",
    "\n",
    "    conv1 = tf.nn.relu(conv1)\n",
    "    \n",
    "    #Input = 32x32x32. Output = 16x16x32.\n",
    "    conv1 = tf.nn.max_pool(conv1, ksize=[1, 2, 2, 1], strides=[1, 2, 2, 1], padding='SAME')\n",
    "\n",
    "    #Layer 2: Convolutional. Input = 16x16x32 Output = 16x16x64.\n",
    "    conv2_W = tf.Variable(tf.truncated_normal(shape=(5, 5, 32, 64), mean = mu, stddev = sigma))\n",
    "    conv2_b = tf.Variable(tf.zeros(64))\n",
    "    conv2   = tf.nn.conv2d(conv1, conv2_W, strides=[1, 1, 1, 1], padding='SAME') + conv2_b\n",
    "    \n",
    "    conv2 = tf.nn.relu(conv2)    \n",
    "\n",
    "    #Input = 16x16x64. Output = 4x4x64.\n",
    "    conv2 = tf.nn.max_pool(conv2, ksize=[1, 4, 4, 1], strides=[1, 4, 4, 1], padding='SAME')\n",
    "\n",
    "    #Input = 5x5x16. Output = 1024.\n",
    "    fc0   = flatten(conv2)\n",
    "    \n",
    "    #Layer 3: Fully Connected. Input = 1024. Output = 120.\n",
    "    fc1_W = tf.Variable(tf.truncated_normal(shape=(1024, 120), mean = mu, stddev = sigma))\n",
    "    fc1_b = tf.Variable(tf.zeros(120))\n",
    "    fc1   = tf.matmul(fc0, fc1_W) + fc1_b\n",
    "    \n",
    "    fc1    = tf.nn.relu(fc1)\n",
    "    \n",
    "    fc1 = tf.nn.dropout(fc1, dropout_prob)\n",
    "\n",
    "    #Layer 4: Fully Connected. Input = 120. Output = 84.\n",
    "    fc2_W  = tf.Variable(tf.truncated_normal(shape=(120, 84), mean = mu, stddev = sigma))\n",
    "    fc2_b  = tf.Variable(tf.zeros(84))\n",
    "    fc2    = tf.matmul(fc1, fc2_W) + fc2_b\n",
    "    \n",
    "    fc2    = tf.nn.relu(fc2)\n",
    "\n",
    "    #Layer 5: Fully Connected. Input = 84. Output = 43.\n",
    "    fc3_W  = tf.Variable(tf.truncated_normal(shape=(84, 43), mean = mu, stddev = sigma))\n",
    "    fc3_b  = tf.Variable(tf.zeros(43))\n",
    "    logits = tf.matmul(fc2, fc3_W) + fc3_b\n",
    "    \n",
    "    return logits"
   ]
  },
  {
   "cell_type": "code",
   "execution_count": 21,
   "metadata": {
    "collapsed": true
   },
   "outputs": [],
   "source": [
    "x = tf.placeholder(tf.float32, (None, 32, 32, 1))\n",
    "y = tf.placeholder(tf.int32, (None))\n",
    "one_hot_y = tf.one_hot(y, 43)"
   ]
  },
  {
   "cell_type": "code",
   "execution_count": 22,
   "metadata": {
    "collapsed": true
   },
   "outputs": [],
   "source": [
    "rate = 0.0005 # slower performance but chance to get better results\n",
    "\n",
    "logits = do_nn(x)\n",
    "cross_entropy = tf.nn.softmax_cross_entropy_with_logits(labels=one_hot_y, logits=logits)\n",
    "loss_operation = tf.reduce_mean(cross_entropy)\n",
    "optimizer = tf.train.AdamOptimizer(learning_rate = rate)\n",
    "training_operation = optimizer.minimize(loss_operation)"
   ]
  },
  {
   "cell_type": "markdown",
   "metadata": {},
   "source": [
    "### Train, Validate and Test the Model"
   ]
  },
  {
   "cell_type": "markdown",
   "metadata": {},
   "source": [
    "A validation set can be used to assess how well the model is performing. A low accuracy on the training and validation\n",
    "sets imply underfitting. A high accuracy on the training set but low accuracy on the validation set implies overfitting."
   ]
  },
  {
   "cell_type": "code",
   "execution_count": 23,
   "metadata": {
    "collapsed": true
   },
   "outputs": [],
   "source": [
    "### Train your model here.\n",
    "### Calculate and report the accuracy on the training and validation set.\n",
    "### Once a final model architecture is selected, \n",
    "### the accuracy on the test set should be calculated and reported as well.\n",
    "### Feel free to use as many code cells as needed.\n",
    "\n",
    "EPOCHS = 100\n",
    "BATCH_SIZE = 64 # smaller batch means slower progress but better results\n",
    "\n",
    "correct_prediction = tf.equal(tf.argmax(logits, 1), tf.argmax(one_hot_y, 1))\n",
    "accuracy_operation = tf.reduce_mean(tf.cast(correct_prediction, tf.float32))\n",
    "saver = tf.train.Saver()\n",
    "\n",
    "def evaluate(X_data, y_data):\n",
    "    num_examples = len(X_data)\n",
    "    total_accuracy = 0\n",
    "    sess = tf.get_default_session()\n",
    "    for offset in range(0, num_examples, BATCH_SIZE):\n",
    "        batch_x, batch_y = X_data[offset:offset+BATCH_SIZE], y_data[offset:offset+BATCH_SIZE]\n",
    "        accuracy = sess.run(accuracy_operation, feed_dict={x: batch_x, y: batch_y})\n",
    "        total_accuracy += (accuracy * len(batch_x))\n",
    "    return total_accuracy / num_examples"
   ]
  },
  {
   "cell_type": "code",
   "execution_count": 24,
   "metadata": {
    "collapsed": false
   },
   "outputs": [
    {
     "name": "stdout",
     "output_type": "stream",
     "text": [
      "Training...\n",
      "\n",
      "EPOCH 1 ...\n",
      "Train Accuracy = 0.155\n",
      "Validation Accuracy = 0.159\n",
      "Test Accuracy = 0.154\n",
      "\n",
      "EPOCH 2 ...\n",
      "Train Accuracy = 0.322\n",
      "Validation Accuracy = 0.329\n",
      "Test Accuracy = 0.324\n",
      "\n",
      "EPOCH 3 ...\n",
      "Train Accuracy = 0.459\n",
      "Validation Accuracy = 0.450\n",
      "Test Accuracy = 0.452\n",
      "\n",
      "EPOCH 4 ...\n",
      "Train Accuracy = 0.557\n",
      "Validation Accuracy = 0.546\n",
      "Test Accuracy = 0.545\n",
      "\n",
      "EPOCH 5 ...\n",
      "Train Accuracy = 0.629\n",
      "Validation Accuracy = 0.632\n",
      "Test Accuracy = 0.611\n",
      "\n",
      "EPOCH 6 ...\n",
      "Train Accuracy = 0.672\n",
      "Validation Accuracy = 0.684\n",
      "Test Accuracy = 0.674\n",
      "\n",
      "EPOCH 7 ...\n",
      "Train Accuracy = 0.713\n",
      "Validation Accuracy = 0.735\n",
      "Test Accuracy = 0.708\n",
      "\n",
      "EPOCH 8 ...\n",
      "Train Accuracy = 0.745\n",
      "Validation Accuracy = 0.782\n",
      "Test Accuracy = 0.750\n",
      "\n",
      "EPOCH 9 ...\n",
      "Train Accuracy = 0.770\n",
      "Validation Accuracy = 0.800\n",
      "Test Accuracy = 0.780\n",
      "\n",
      "EPOCH 10 ...\n",
      "Train Accuracy = 0.786\n",
      "Validation Accuracy = 0.816\n",
      "Test Accuracy = 0.796\n",
      "\n",
      "EPOCH 11 ...\n",
      "Train Accuracy = 0.798\n",
      "Validation Accuracy = 0.830\n",
      "Test Accuracy = 0.809\n",
      "\n",
      "EPOCH 12 ...\n",
      "Train Accuracy = 0.800\n",
      "Validation Accuracy = 0.832\n",
      "Test Accuracy = 0.807\n",
      "\n",
      "EPOCH 13 ...\n",
      "Train Accuracy = 0.821\n",
      "Validation Accuracy = 0.852\n",
      "Test Accuracy = 0.841\n",
      "\n",
      "EPOCH 14 ...\n",
      "Train Accuracy = 0.822\n",
      "Validation Accuracy = 0.853\n",
      "Test Accuracy = 0.837\n",
      "\n",
      "EPOCH 15 ...\n",
      "Train Accuracy = 0.837\n",
      "Validation Accuracy = 0.875\n",
      "Test Accuracy = 0.860\n",
      "\n",
      "EPOCH 16 ...\n",
      "Train Accuracy = 0.832\n",
      "Validation Accuracy = 0.873\n",
      "Test Accuracy = 0.859\n",
      "\n",
      "EPOCH 17 ...\n",
      "Train Accuracy = 0.849\n",
      "Validation Accuracy = 0.890\n",
      "Test Accuracy = 0.866\n",
      "\n",
      "EPOCH 18 ...\n",
      "Train Accuracy = 0.850\n",
      "Validation Accuracy = 0.902\n",
      "Test Accuracy = 0.874\n",
      "\n",
      "EPOCH 19 ...\n",
      "Train Accuracy = 0.855\n",
      "Validation Accuracy = 0.893\n",
      "Test Accuracy = 0.874\n",
      "\n",
      "EPOCH 20 ...\n",
      "Train Accuracy = 0.851\n",
      "Validation Accuracy = 0.886\n",
      "Test Accuracy = 0.871\n",
      "\n",
      "EPOCH 21 ...\n",
      "Train Accuracy = 0.861\n",
      "Validation Accuracy = 0.912\n",
      "Test Accuracy = 0.889\n",
      "\n",
      "EPOCH 22 ...\n",
      "Train Accuracy = 0.858\n",
      "Validation Accuracy = 0.896\n",
      "Test Accuracy = 0.878\n",
      "\n",
      "EPOCH 23 ...\n",
      "Train Accuracy = 0.864\n",
      "Validation Accuracy = 0.903\n",
      "Test Accuracy = 0.887\n",
      "\n",
      "EPOCH 24 ...\n",
      "Train Accuracy = 0.865\n",
      "Validation Accuracy = 0.914\n",
      "Test Accuracy = 0.887\n",
      "\n",
      "EPOCH 25 ...\n",
      "Train Accuracy = 0.865\n",
      "Validation Accuracy = 0.908\n",
      "Test Accuracy = 0.892\n",
      "\n",
      "EPOCH 26 ...\n",
      "Train Accuracy = 0.868\n",
      "Validation Accuracy = 0.908\n",
      "Test Accuracy = 0.894\n",
      "\n",
      "EPOCH 27 ...\n",
      "Train Accuracy = 0.872\n",
      "Validation Accuracy = 0.915\n",
      "Test Accuracy = 0.902\n",
      "\n",
      "EPOCH 28 ...\n",
      "Train Accuracy = 0.877\n",
      "Validation Accuracy = 0.924\n",
      "Test Accuracy = 0.907\n",
      "\n",
      "EPOCH 29 ...\n",
      "Train Accuracy = 0.876\n",
      "Validation Accuracy = 0.920\n",
      "Test Accuracy = 0.906\n",
      "\n",
      "EPOCH 30 ...\n",
      "Train Accuracy = 0.875\n",
      "Validation Accuracy = 0.919\n",
      "Test Accuracy = 0.907\n",
      "\n",
      "EPOCH 31 ...\n",
      "Train Accuracy = 0.878\n",
      "Validation Accuracy = 0.927\n",
      "Test Accuracy = 0.902\n",
      "\n",
      "EPOCH 32 ...\n",
      "Train Accuracy = 0.873\n",
      "Validation Accuracy = 0.914\n",
      "Test Accuracy = 0.894\n",
      "\n",
      "EPOCH 33 ...\n",
      "Train Accuracy = 0.875\n",
      "Validation Accuracy = 0.925\n",
      "Test Accuracy = 0.901\n",
      "\n",
      "EPOCH 34 ...\n",
      "Train Accuracy = 0.878\n",
      "Validation Accuracy = 0.928\n",
      "Test Accuracy = 0.910\n",
      "\n",
      "EPOCH 35 ...\n",
      "Train Accuracy = 0.879\n",
      "Validation Accuracy = 0.927\n",
      "Test Accuracy = 0.908\n",
      "\n",
      "EPOCH 36 ...\n",
      "Train Accuracy = 0.879\n",
      "Validation Accuracy = 0.922\n",
      "Test Accuracy = 0.904\n",
      "\n",
      "EPOCH 37 ...\n",
      "Train Accuracy = 0.882\n",
      "Validation Accuracy = 0.926\n",
      "Test Accuracy = 0.906\n",
      "\n",
      "EPOCH 38 ...\n",
      "Train Accuracy = 0.873\n",
      "Validation Accuracy = 0.911\n",
      "Test Accuracy = 0.891\n",
      "\n",
      "EPOCH 39 ...\n",
      "Train Accuracy = 0.881\n",
      "Validation Accuracy = 0.926\n",
      "Test Accuracy = 0.908\n",
      "\n",
      "EPOCH 40 ...\n",
      "Train Accuracy = 0.883\n",
      "Validation Accuracy = 0.918\n",
      "Test Accuracy = 0.910\n",
      "\n",
      "EPOCH 41 ...\n",
      "Train Accuracy = 0.885\n",
      "Validation Accuracy = 0.934\n",
      "Test Accuracy = 0.915\n",
      "\n",
      "EPOCH 42 ...\n",
      "Train Accuracy = 0.885\n",
      "Validation Accuracy = 0.929\n",
      "Test Accuracy = 0.914\n",
      "\n",
      "EPOCH 43 ...\n",
      "Train Accuracy = 0.885\n",
      "Validation Accuracy = 0.933\n",
      "Test Accuracy = 0.914\n",
      "\n",
      "EPOCH 44 ...\n",
      "Train Accuracy = 0.882\n",
      "Validation Accuracy = 0.920\n",
      "Test Accuracy = 0.912\n",
      "\n",
      "EPOCH 45 ...\n",
      "Train Accuracy = 0.886\n",
      "Validation Accuracy = 0.933\n",
      "Test Accuracy = 0.916\n",
      "\n",
      "EPOCH 46 ...\n",
      "Train Accuracy = 0.887\n",
      "Validation Accuracy = 0.935\n",
      "Test Accuracy = 0.917\n",
      "\n",
      "EPOCH 47 ...\n",
      "Train Accuracy = 0.886\n",
      "Validation Accuracy = 0.937\n",
      "Test Accuracy = 0.916\n",
      "\n",
      "EPOCH 48 ...\n",
      "Train Accuracy = 0.886\n",
      "Validation Accuracy = 0.934\n",
      "Test Accuracy = 0.914\n",
      "\n",
      "EPOCH 49 ...\n",
      "Train Accuracy = 0.885\n",
      "Validation Accuracy = 0.929\n",
      "Test Accuracy = 0.917\n",
      "\n",
      "EPOCH 50 ...\n",
      "Train Accuracy = 0.888\n",
      "Validation Accuracy = 0.932\n",
      "Test Accuracy = 0.921\n",
      "\n",
      "EPOCH 51 ...\n",
      "Train Accuracy = 0.888\n",
      "Validation Accuracy = 0.932\n",
      "Test Accuracy = 0.921\n",
      "\n",
      "EPOCH 52 ...\n",
      "Train Accuracy = 0.886\n",
      "Validation Accuracy = 0.937\n",
      "Test Accuracy = 0.917\n",
      "\n",
      "EPOCH 53 ...\n",
      "Train Accuracy = 0.887\n",
      "Validation Accuracy = 0.929\n",
      "Test Accuracy = 0.918\n",
      "\n",
      "EPOCH 54 ...\n",
      "Train Accuracy = 0.887\n",
      "Validation Accuracy = 0.941\n",
      "Test Accuracy = 0.917\n",
      "\n",
      "EPOCH 55 ...\n",
      "Train Accuracy = 0.889\n",
      "Validation Accuracy = 0.936\n",
      "Test Accuracy = 0.920\n",
      "\n",
      "EPOCH 56 ...\n",
      "Train Accuracy = 0.892\n",
      "Validation Accuracy = 0.942\n",
      "Test Accuracy = 0.925\n",
      "\n",
      "EPOCH 57 ...\n",
      "Train Accuracy = 0.890\n",
      "Validation Accuracy = 0.936\n",
      "Test Accuracy = 0.925\n",
      "\n",
      "EPOCH 58 ...\n",
      "Train Accuracy = 0.888\n",
      "Validation Accuracy = 0.942\n",
      "Test Accuracy = 0.917\n",
      "\n",
      "EPOCH 59 ...\n",
      "Train Accuracy = 0.886\n",
      "Validation Accuracy = 0.935\n",
      "Test Accuracy = 0.915\n",
      "\n",
      "EPOCH 60 ...\n",
      "Train Accuracy = 0.888\n",
      "Validation Accuracy = 0.937\n",
      "Test Accuracy = 0.922\n",
      "\n",
      "EPOCH 61 ...\n",
      "Train Accuracy = 0.890\n",
      "Validation Accuracy = 0.940\n",
      "Test Accuracy = 0.928\n",
      "\n",
      "EPOCH 62 ...\n",
      "Train Accuracy = 0.891\n",
      "Validation Accuracy = 0.936\n",
      "Test Accuracy = 0.928\n",
      "\n",
      "EPOCH 63 ...\n",
      "Train Accuracy = 0.890\n",
      "Validation Accuracy = 0.944\n",
      "Test Accuracy = 0.921\n",
      "\n",
      "EPOCH 64 ...\n",
      "Train Accuracy = 0.890\n",
      "Validation Accuracy = 0.938\n",
      "Test Accuracy = 0.922\n",
      "\n",
      "EPOCH 65 ...\n",
      "Train Accuracy = 0.891\n",
      "Validation Accuracy = 0.936\n",
      "Test Accuracy = 0.918\n",
      "\n",
      "EPOCH 66 ...\n",
      "Train Accuracy = 0.891\n",
      "Validation Accuracy = 0.942\n",
      "Test Accuracy = 0.922\n",
      "\n",
      "EPOCH 67 ...\n",
      "Train Accuracy = 0.886\n",
      "Validation Accuracy = 0.943\n",
      "Test Accuracy = 0.916\n",
      "\n",
      "EPOCH 68 ...\n",
      "Train Accuracy = 0.891\n",
      "Validation Accuracy = 0.946\n",
      "Test Accuracy = 0.924\n",
      "\n",
      "EPOCH 69 ...\n",
      "Train Accuracy = 0.891\n",
      "Validation Accuracy = 0.945\n",
      "Test Accuracy = 0.922\n",
      "\n",
      "EPOCH 70 ...\n",
      "Train Accuracy = 0.888\n",
      "Validation Accuracy = 0.937\n",
      "Test Accuracy = 0.915\n",
      "\n",
      "EPOCH 71 ...\n",
      "Train Accuracy = 0.892\n",
      "Validation Accuracy = 0.940\n",
      "Test Accuracy = 0.924\n",
      "\n",
      "EPOCH 72 ...\n",
      "Train Accuracy = 0.891\n",
      "Validation Accuracy = 0.944\n",
      "Test Accuracy = 0.922\n",
      "\n",
      "EPOCH 73 ...\n",
      "Train Accuracy = 0.892\n",
      "Validation Accuracy = 0.942\n",
      "Test Accuracy = 0.919\n",
      "\n",
      "EPOCH 74 ...\n",
      "Train Accuracy = 0.891\n",
      "Validation Accuracy = 0.941\n",
      "Test Accuracy = 0.922\n",
      "\n",
      "EPOCH 75 ...\n",
      "Train Accuracy = 0.892\n",
      "Validation Accuracy = 0.946\n",
      "Test Accuracy = 0.924\n",
      "\n",
      "EPOCH 76 ...\n",
      "Train Accuracy = 0.894\n",
      "Validation Accuracy = 0.948\n",
      "Test Accuracy = 0.928\n",
      "\n",
      "EPOCH 77 ...\n",
      "Train Accuracy = 0.892\n",
      "Validation Accuracy = 0.942\n",
      "Test Accuracy = 0.924\n",
      "\n",
      "EPOCH 78 ...\n",
      "Train Accuracy = 0.892\n",
      "Validation Accuracy = 0.947\n",
      "Test Accuracy = 0.930\n",
      "\n",
      "EPOCH 79 ...\n",
      "Train Accuracy = 0.893\n",
      "Validation Accuracy = 0.946\n",
      "Test Accuracy = 0.927\n",
      "\n",
      "EPOCH 80 ...\n",
      "Train Accuracy = 0.892\n",
      "Validation Accuracy = 0.944\n",
      "Test Accuracy = 0.922\n",
      "\n",
      "EPOCH 81 ...\n",
      "Train Accuracy = 0.894\n",
      "Validation Accuracy = 0.943\n",
      "Test Accuracy = 0.926\n",
      "\n",
      "EPOCH 82 ...\n",
      "Train Accuracy = 0.891\n",
      "Validation Accuracy = 0.939\n",
      "Test Accuracy = 0.924\n",
      "\n",
      "EPOCH 83 ...\n",
      "Train Accuracy = 0.894\n",
      "Validation Accuracy = 0.934\n",
      "Test Accuracy = 0.925\n",
      "\n",
      "EPOCH 84 ...\n",
      "Train Accuracy = 0.893\n",
      "Validation Accuracy = 0.941\n",
      "Test Accuracy = 0.926\n",
      "\n",
      "EPOCH 85 ...\n",
      "Train Accuracy = 0.893\n",
      "Validation Accuracy = 0.945\n",
      "Test Accuracy = 0.928\n",
      "\n",
      "EPOCH 86 ...\n",
      "Train Accuracy = 0.892\n",
      "Validation Accuracy = 0.941\n",
      "Test Accuracy = 0.925\n",
      "\n",
      "EPOCH 87 ...\n",
      "Train Accuracy = 0.891\n",
      "Validation Accuracy = 0.938\n",
      "Test Accuracy = 0.915\n",
      "\n",
      "EPOCH 88 ...\n",
      "Train Accuracy = 0.895\n",
      "Validation Accuracy = 0.950\n",
      "Test Accuracy = 0.929\n",
      "\n",
      "EPOCH 89 ...\n",
      "Train Accuracy = 0.895\n",
      "Validation Accuracy = 0.943\n",
      "Test Accuracy = 0.927\n",
      "\n",
      "EPOCH 90 ...\n",
      "Train Accuracy = 0.894\n",
      "Validation Accuracy = 0.943\n",
      "Test Accuracy = 0.926\n",
      "\n",
      "EPOCH 91 ...\n",
      "Train Accuracy = 0.893\n",
      "Validation Accuracy = 0.944\n",
      "Test Accuracy = 0.923\n",
      "\n",
      "EPOCH 92 ...\n",
      "Train Accuracy = 0.892\n",
      "Validation Accuracy = 0.939\n",
      "Test Accuracy = 0.925\n",
      "\n",
      "EPOCH 93 ...\n",
      "Train Accuracy = 0.894\n",
      "Validation Accuracy = 0.947\n",
      "Test Accuracy = 0.926\n",
      "\n",
      "EPOCH 94 ...\n",
      "Train Accuracy = 0.895\n",
      "Validation Accuracy = 0.948\n",
      "Test Accuracy = 0.930\n",
      "\n",
      "EPOCH 95 ...\n",
      "Train Accuracy = 0.895\n",
      "Validation Accuracy = 0.948\n",
      "Test Accuracy = 0.926\n",
      "\n",
      "EPOCH 96 ...\n",
      "Train Accuracy = 0.893\n",
      "Validation Accuracy = 0.946\n",
      "Test Accuracy = 0.923\n",
      "\n",
      "EPOCH 97 ...\n",
      "Train Accuracy = 0.895\n",
      "Validation Accuracy = 0.945\n",
      "Test Accuracy = 0.928\n",
      "\n",
      "EPOCH 98 ...\n",
      "Train Accuracy = 0.895\n",
      "Validation Accuracy = 0.946\n",
      "Test Accuracy = 0.930\n",
      "\n",
      "EPOCH 99 ...\n",
      "Train Accuracy = 0.895\n",
      "Validation Accuracy = 0.951\n",
      "Test Accuracy = 0.926\n",
      "\n",
      "EPOCH 100 ...\n",
      "Train Accuracy = 0.894\n",
      "Validation Accuracy = 0.950\n",
      "Test Accuracy = 0.929\n",
      "\n",
      "Model saved\n"
     ]
    }
   ],
   "source": [
    "with tf.Session() as sess:\n",
    "    sess.run(tf.global_variables_initializer())\n",
    "    num_examples = len(X_train)\n",
    "    \n",
    "    print(\"Training...\")\n",
    "    print()\n",
    "    for i in range(EPOCHS):\n",
    "        X_train, y_train = shuffle(X_train, y_train)\n",
    "        for offset in range(0, num_examples, BATCH_SIZE):\n",
    "            end = offset + BATCH_SIZE\n",
    "            batch_x, batch_y = X_train[offset:end], y_train[offset:end]\n",
    "            sess.run(training_operation, feed_dict={x: batch_x, y: batch_y})\n",
    "            \n",
    "        train_accuracy = evaluate(X_train, y_train)\n",
    "        validation_accuracy = evaluate(X_valid, y_valid)\n",
    "        test_accuracy = evaluate(X_test, y_test)\n",
    "        print(\"EPOCH {} ...\".format(i+1))\n",
    "        print(\"Train Accuracy = {:.3f}\".format(train_accuracy))\n",
    "        print(\"Validation Accuracy = {:.3f}\".format(validation_accuracy))\n",
    "        print(\"Test Accuracy = {:.3f}\".format(test_accuracy))\n",
    "        print()\n",
    "        \n",
    "    saver.save(sess, './tsign')\n",
    "    print(\"Model saved\")"
   ]
  },
  {
   "cell_type": "markdown",
   "metadata": {},
   "source": [
    "---\n",
    "\n",
    "## Step 3: Test a Model on New Images\n",
    "\n",
    "To give yourself more insight into how your model is working, download at least five pictures of German traffic signs from the web and use your model to predict the traffic sign type.\n",
    "\n",
    "You may find `signnames.csv` useful as it contains mappings from the class id (integer) to the actual sign name."
   ]
  },
  {
   "cell_type": "markdown",
   "metadata": {},
   "source": [
    "### Load and Output the Images"
   ]
  },
  {
   "cell_type": "code",
   "execution_count": 25,
   "metadata": {
    "collapsed": true
   },
   "outputs": [],
   "source": [
    "import matplotlib.image as mpimg\n",
    "### Load the images and plot them here.\n",
    "### Feel free to use as many code cells as needed.\n",
    "X_real = [[mpimg.imread('external/end_32.jpg')],\n",
    "             [mpimg.imread('external/schule_32.jpg')],\n",
    "             [mpimg.imread('external/120_32.jpg')],\n",
    "             [mpimg.imread('external/stop_32.jpg')],\n",
    "             [mpimg.imread('external/wild_32.jpg')]]\n",
    "X_real = np.array(X_real)\n",
    "y_real = [17, 28, 8, 14, 31]"
   ]
  },
  {
   "cell_type": "code",
   "execution_count": 26,
   "metadata": {
    "collapsed": false
   },
   "outputs": [
    {
     "name": "stderr",
     "output_type": "stream",
     "text": [
      "/home/carnd/anaconda3/envs/carnd-term1/lib/python3.5/site-packages/matplotlib/figure.py:402: UserWarning: matplotlib is currently using a non-GUI backend, so cannot show the figure\n",
      "  \"matplotlib is currently using a non-GUI backend, \"\n"
     ]
    },
    {
     "data": {
      "image/png": "[encoded data removed]",
      "text/plain": [
       "<matplotlib.figure.Figure at 0x7f39dc0e67b8>"
      ]
     },
     "metadata": {},
     "output_type": "display_data"
    }
   ],
   "source": [
    "fig = plt.figure(figsize=(5,1))\n",
    "a=fig.add_subplot(1,5,1)\n",
    "imgplot = plt.imshow(X_real[0][0])\n",
    "a=fig.add_subplot(1,5,2)\n",
    "imgplot = plt.imshow(X_real[1][0])\n",
    "a=fig.add_subplot(1,5,3)\n",
    "imgplot = plt.imshow(X_real[2][0])\n",
    "a=fig.add_subplot(1,5,4)\n",
    "imgplot = plt.imshow(X_real[3][0])\n",
    "a=fig.add_subplot(1,5,5)\n",
    "imgplot = plt.imshow(X_real[4][0])\n",
    "fig.show()"
   ]
  },
  {
   "cell_type": "code",
   "execution_count": 27,
   "metadata": {
    "collapsed": true
   },
   "outputs": [],
   "source": [
    "X_real = preprocess(X_real)"
   ]
  },
  {
   "cell_type": "markdown",
   "metadata": {},
   "source": [
    "### Predict the Sign Type for Each Image"
   ]
  },
  {
   "cell_type": "code",
   "execution_count": 34,
   "metadata": {
    "collapsed": false
   },
   "outputs": [
    {
     "name": "stdout",
     "output_type": "stream",
     "text": [
      "1 .  OK  Expected class:  17  Predicted:  17\n",
      "2 .  OK  Expected class:  28  Predicted:  28\n",
      "3 .  OK  Expected class:  8  Predicted:  8\n",
      "4 .  OK  Expected class:  14  Predicted:  14\n",
      "5 .  OK  Expected class:  31  Predicted:  31\n",
      "Correct:  5\n"
     ]
    }
   ],
   "source": [
    "### Run the predictions here and use the model to output the prediction for each image.\n",
    "### Make sure to pre-process the images with the same pre-processing pipeline used earlier.\n",
    "### Feel free to use as many code cells as needed.\n",
    "saver = tf.train.Saver()\n",
    "\n",
    "with tf.Session() as sess:\n",
    "    saver.restore(sess,'./tsign') \n",
    "    predictions = sess.run(logits, feed_dict={x: X_real})\n",
    "    errors = 0\n",
    "    for prediction,i in zip(predictions, range(len(predictions))):\n",
    "        if np.argmax(prediction) != y_real[i]:\n",
    "            result = 'KO'\n",
    "            errors += 1\n",
    "        else:\n",
    "            result = 'OK'\n",
    "        print(i+1,\". \", result ,\" Expected class: \", y_real[i], \" Predicted: \", np.argmax(prediction))\n",
    "    print(\"Correct: \", len(predictions) - errors)"
   ]
  },
  {
   "cell_type": "markdown",
   "metadata": {},
   "source": [
    "### Analyze Performance"
   ]
  },
  {
   "cell_type": "code",
   "execution_count": 35,
   "metadata": {
    "collapsed": false
   },
   "outputs": [
    {
     "name": "stdout",
     "output_type": "stream",
     "text": [
      "Accuracy:  100.0 %\n"
     ]
    }
   ],
   "source": [
    "### Calculate the accuracy for these 5 new images. \n",
    "### For example, if the model predicted 1 out of 5 signs correctly, it's 20% accurate on these new images.\n",
    "print(\"Accuracy: \", (len(y_real) - errors)*100/len(y_real),\"%\")"
   ]
  },
  {
   "cell_type": "markdown",
   "metadata": {},
   "source": [
    "### Output Top 5 Softmax Probabilities For Each Image Found on the Web"
   ]
  },
  {
   "cell_type": "markdown",
   "metadata": {},
   "source": [
    "For each of the new images, print out the model's softmax probabilities to show the **certainty** of the model's predictions (limit the output to the top 5 probabilities for each image). [`tf.nn.top_k`](https://www.tensorflow.org/versions/r0.12/api_docs/python/nn.html#top_k) could prove helpful here. \n",
    "\n",
    "The example below demonstrates how tf.nn.top_k can be used to find the top k predictions for each image.\n",
    "\n",
    "`tf.nn.top_k` will return the values and indices (class ids) of the top k predictions. So if k=3, for each sign, it'll return the 3 largest probabilities (out of a possible 43) and the correspoding class ids.\n",
    "\n",
    "Take this numpy array as an example. The values in the array represent predictions. The array contains softmax probabilities for five candidate images with six possible classes. `tf.nn.top_k` is used to choose the three classes with the highest probability:\n",
    "\n",
    "```\n",
    "# (5, 6) array\n",
    "a = np.array([[ 0.24879643,  0.07032244,  0.12641572,  0.34763842,  0.07893497,\n",
    "         0.12789202],\n",
    "       [ 0.28086119,  0.27569815,  0.08594638,  0.0178669 ,  0.18063401,\n",
    "         0.15899337],\n",
    "       [ 0.26076848,  0.23664738,  0.08020603,  0.07001922,  0.1134371 ,\n",
    "         0.23892179],\n",
    "       [ 0.11943333,  0.29198961,  0.02605103,  0.26234032,  0.1351348 ,\n",
    "         0.16505091],\n",
    "       [ 0.09561176,  0.34396535,  0.0643941 ,  0.16240774,  0.24206137,\n",
    "         0.09155967]])\n",
    "```\n",
    "\n",
    "Running it through `sess.run(tf.nn.top_k(tf.constant(a), k=3))` produces:\n",
    "\n",
    "```\n",
    "TopKV2(values=array([[ 0.34763842,  0.24879643,  0.12789202],\n",
    "       [ 0.28086119,  0.27569815,  0.18063401],\n",
    "       [ 0.26076848,  0.23892179,  0.23664738],\n",
    "       [ 0.29198961,  0.26234032,  0.16505091],\n",
    "       [ 0.34396535,  0.24206137,  0.16240774]]), indices=array([[3, 0, 5],\n",
    "       [0, 1, 4],\n",
    "       [0, 5, 1],\n",
    "       [1, 3, 5],\n",
    "       [1, 4, 3]], dtype=int32))\n",
    "```\n",
    "\n",
    "Looking just at the first row we get `[ 0.34763842,  0.24879643,  0.12789202]`, you can confirm these are the 3 largest probabilities in `a`. You'll also notice `[3, 0, 5]` are the corresponding indices."
   ]
  },
  {
   "cell_type": "code",
   "execution_count": 41,
   "metadata": {
    "collapsed": false
   },
   "outputs": [
    {
     "name": "stdout",
     "output_type": "stream",
     "text": [
      "[[  9.98737514e-01   1.22024724e-03   4.22451449e-05   4.68011478e-08\n",
      "    2.81527512e-08]\n",
      " [  9.94701266e-01   3.85128637e-03   4.94052307e-04   4.82367876e-04\n",
      "    3.58010613e-04]\n",
      " [  9.98842061e-01   1.10806467e-03   2.70218279e-05   1.39514423e-05\n",
      "    8.43647376e-06]\n",
      " [  9.99969125e-01   3.08542367e-05   8.01923195e-10   4.93901697e-10\n",
      "    4.99628496e-13]\n",
      " [  9.86057043e-01   1.16982693e-02   9.20161605e-04   7.67221965e-04\n",
      "    2.37251705e-04]]\n",
      "[[17  7 40 10 12]\n",
      " [28 11 12 23 42]\n",
      " [ 8  4  5  2  7]\n",
      " [14 34  8 38 15]\n",
      " [31 33 29 17 30]]\n"
     ]
    }
   ],
   "source": [
    "### Print out the top five softmax probabilities for the predictions on the German traffic sign images found on the web. \n",
    "### Feel free to use as many code cells as needed.\n",
    "with tf.Session() as sess:\n",
    "    saver.restore(sess, './tsign')\n",
    "    probabilities = tf.nn.softmax(logits)\n",
    "    predictions = sess.run(probabilities, feed_dict={x: X_real})\n",
    "    certainity = sess.run(tf.nn.top_k(tf.constant(predictions), k=5, sorted=True))\n",
    "print(certainity.values)\n",
    "print(certainity.indices)"
   ]
  },
  {
   "cell_type": "markdown",
   "metadata": {},
   "source": [
    "### Project Writeup\n",
    "\n",
    "Once you have completed the code implementation, document your results in a project writeup using this [template](https://github.com/udacity/CarND-Traffic-Sign-Classifier-Project/blob/master/writeup_template.md) as a guide. The writeup can be in a markdown or pdf file. "
   ]
  },
  {
   "cell_type": "markdown",
   "metadata": {},
   "source": [
    "> **Note**: Once you have completed all of the code implementations and successfully answered each question above, you may finalize your work by exporting the iPython Notebook as an HTML document. You can do this by using the menu above and navigating to  \\n\",\n",
    "    \"**File -> Download as -> HTML (.html)**. Include the finished document along with this notebook as your submission."
   ]
  },
  {
   "cell_type": "markdown",
   "metadata": {},
   "source": [
    "---\n",
    "\n",
    "## Step 4 (Optional): Visualize the Neural Network's State with Test Images\n",
    "\n",
    " This Section is not required to complete but acts as an additional excersise for understaning the output of a neural network's weights. While neural networks can be a great learning device they are often referred to as a black box. We can understand what the weights of a neural network look like better by plotting their feature maps. After successfully training your neural network you can see what it's feature maps look like by plotting the output of the network's weight layers in response to a test stimuli image. From these plotted feature maps, it's possible to see what characteristics of an image the network finds interesting. For a sign, maybe the inner network feature maps react with high activation to the sign's boundary outline or to the contrast in the sign's painted symbol.\n",
    "\n",
    " Provided for you below is the function code that allows you to get the visualization output of any tensorflow weight layer you want. The inputs to the function should be a stimuli image, one used during training or a new one you provided, and then the tensorflow variable name that represents the layer's state during the training process, for instance if you wanted to see what the [LeNet lab's](https://classroom.udacity.com/nanodegrees/nd013/parts/fbf77062-5703-404e-b60c-95b78b2f3f9e/modules/6df7ae49-c61c-4bb2-a23e-6527e69209ec/lessons/601ae704-1035-4287-8b11-e2c2716217ad/concepts/d4aca031-508f-4e0b-b493-e7b706120f81) feature maps looked like for it's second convolutional layer you could enter conv2 as the tf_activation variable.\n",
    "\n",
    "For an example of what feature map outputs look like, check out NVIDIA's results in their paper [End-to-End Deep Learning for Self-Driving Cars](https://devblogs.nvidia.com/parallelforall/deep-learning-self-driving-cars/) in the section Visualization of internal CNN State. NVIDIA was able to show that their network's inner weights had high activations to road boundary lines by comparing feature maps from an image with a clear path to one without. Try experimenting with a similar test to show that your trained network's weights are looking for interesting features, whether it's looking at differences in feature maps from images with or without a sign, or even what feature maps look like in a trained network vs a completely untrained one on the same sign image.\n",
    "\n",
    "<figure>\n",
    " <img src=\"visualize_cnn.png\" width=\"380\" alt=\"Combined Image\" />\n",
    " <figcaption>\n",
    " <p></p> \n",
    " <p style=\"text-align: center;\"> Your output should look something like this (above)</p> \n",
    " </figcaption>\n",
    "</figure>\n",
    " <p></p> \n"
   ]
  },
  {
   "cell_type": "code",
   "execution_count": null,
   "metadata": {
    "collapsed": true
   },
   "outputs": [],
   "source": [
    "### Visualize your network's feature maps here.\n",
    "### Feel free to use as many code cells as needed.\n",
    "\n",
    "# image_input: the test image being fed into the network to produce the feature maps\n",
    "# tf_activation: should be a tf variable name used during your training procedure that represents the calculated state of a specific weight layer\n",
    "# activation_min/max: can be used to view the activation contrast in more detail, by default matplot sets min and max to the actual min and max values of the output\n",
    "# plt_num: used to plot out multiple different weight feature map sets on the same block, just extend the plt number for each new feature map entry\n",
    "\n",
    "def outputFeatureMap(image_input, tf_activation, activation_min=-1, activation_max=-1 ,plt_num=1):\n",
    "    # Here make sure to preprocess your image_input in a way your network expects\n",
    "    # with size, normalization, ect if needed\n",
    "    # image_input =\n",
    "    # Note: x should be the same name as your network's tensorflow data placeholder variable\n",
    "    # If you get an error tf_activation is not defined it may be having trouble accessing the variable from inside a function\n",
    "    activation = tf_activation.eval(session=sess,feed_dict={x : image_input})\n",
    "    featuremaps = activation.shape[3]\n",
    "    plt.figure(plt_num, figsize=(15,15))\n",
    "    for featuremap in range(featuremaps):\n",
    "        plt.subplot(6,8, featuremap+1) # sets the number of feature maps to show on each row and column\n",
    "        plt.title('FeatureMap ' + str(featuremap)) # displays the feature map number\n",
    "        if activation_min != -1 & activation_max != -1:\n",
    "            plt.imshow(activation[0,:,:, featuremap], interpolation=\"nearest\", vmin =activation_min, vmax=activation_max, cmap=\"gray\")\n",
    "        elif activation_max != -1:\n",
    "            plt.imshow(activation[0,:,:, featuremap], interpolation=\"nearest\", vmax=activation_max, cmap=\"gray\")\n",
    "        elif activation_min !=-1:\n",
    "            plt.imshow(activation[0,:,:, featuremap], interpolation=\"nearest\", vmin=activation_min, cmap=\"gray\")\n",
    "        else:\n",
    "            plt.imshow(activation[0,:,:, featuremap], interpolation=\"nearest\", cmap=\"gray\")"
   ]
  }
 ],
 "metadata": {
  "anaconda-cloud": {},
  "kernelspec": {
   "display_name": "Python [default]",
   "language": "python",
   "name": "python3"
  },
  "language_info": {
   "codemirror_mode": {
    "name": "ipython",
    "version": 3
   },
   "file_extension": ".py",
   "mimetype": "text/x-python",
   "name": "python",
   "nbconvert_exporter": "python",
   "pygments_lexer": "ipython3",
   "version": "3.5.2"
  }
 },
 "nbformat": 4,
 "nbformat_minor": 1
}
